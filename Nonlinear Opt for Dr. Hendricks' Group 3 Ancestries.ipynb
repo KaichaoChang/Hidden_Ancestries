{
 "cells": [
  {
   "cell_type": "code",
   "execution_count": 21,
   "metadata": {},
   "outputs": [],
   "source": [
    "import numpy as np\n",
    "import scipy as scipy\n",
    "from scipy.optimize import minimize\n",
    "import timeit"
   ]
  },
  {
   "cell_type": "markdown",
   "metadata": {},
   "source": [
    "# Try Solving 3 Ancestry problem, multiple SNPs\n",
    "\n",
    "In this notebook we attempt to solve the following constrained, quadratic optimization problem:\n",
    "\n",
    "$$\\min_{\\pi \\in \\mathbb{R}^3} f(\\pi)=\\sum_{i=1}^{N}(a_i\\pi_1+b_i\\pi_2+c_i\\pi_3-d_i)^2$$\n",
    "\n",
    "$$\\text{subject to:} \\quad \\pi_1+\\pi_2+\\pi_3=1 \\quad \\pi_1\\geq 0 \\quad \\pi_2 \\geq 0 \\quad \\pi_3 \\geq 0,$$\n",
    "\n",
    "where $a_i,b_i,c_i, d_i \\in \\mathbb{R}, i=1,\\ldots N$ are quantities obtained from a genetics simulation. The $a_i$'s correspond to the observed allele frequency in ancestry 1; the $b_i$'s correspond to the observed allele frequency in ancestry 2; the $c_i$'s correspond to the observed allele frequency in ancestry 3; the $d_i$'s corespond to the observed  total allele frequency in the population. Here, $N$ is the number of SNPs."
   ]
  },
  {
   "cell_type": "code",
   "execution_count": 22,
   "metadata": {},
   "outputs": [],
   "source": [
    "# Simulate 10^6 SNPS\n",
    "\n",
    "# Megan : this is where you will replace the a, b, and c vectors I form with random draws\n",
    "#         with the data from the SNPS. They should be column vectors!\n",
    "\n",
    "M=1000000\n",
    "\n",
    "a = np.random.uniform(low=0, high=0.6, size=(M,1))\n",
    "b = np.random.uniform(low=0.2, high=0.5, size=(M,1))\n",
    "c = np.random.uniform(low=0.1, high=0.5, size=(M,1))\n",
    "d = .1*a + .3*b +.6*c # By choosing the mixing proportions, this makes the \"answer\" pi_1=.1, pi_2=.3, pi_3=.6"
   ]
  },
  {
   "cell_type": "code",
   "execution_count": 23,
   "metadata": {},
   "outputs": [],
   "source": [
    "# This is the objective function!\n",
    "\n",
    "def function(x):\n",
    "    return np.sum((a*x[0]+b*x[1]+c*x[2]-d)**2,axis=0)"
   ]
  },
  {
   "cell_type": "code",
   "execution_count": 24,
   "metadata": {},
   "outputs": [
    {
     "name": "stdout",
     "output_type": "stream",
     "text": [
      "[2593.38272323]\n"
     ]
    }
   ],
   "source": [
    "# This is a feasible initial point since its components add to 1 and are positive.\n",
    "\n",
    "x_t=np.array((1/3,1/3,1/3))\n",
    "\n",
    "# Make sure function works by computing f(x_t)\n",
    "\n",
    "print(function(x_t))"
   ]
  },
  {
   "cell_type": "code",
   "execution_count": 25,
   "metadata": {},
   "outputs": [],
   "source": [
    "# Here is the gradient of the objective function\n",
    "\n",
    "\n",
    "\n",
    "def gradfun(x):\n",
    "    return np.array((np.sum(2*a*(a*x[0]+b*x[1]+c*x[2]-d),axis=0),np.sum(2*b*(a*x[0]+b*x[1]+c*x[2]-d),axis=0),np.sum(2*c*(a*x[0]+b*x[1]+c*x[2]-d),axis=0)))"
   ]
  },
  {
   "cell_type": "code",
   "execution_count": 26,
   "metadata": {},
   "outputs": [
    {
     "name": "stdout",
     "output_type": "stream",
     "text": [
      "[[14968.5393493 ]\n",
      " [ 1639.15836137]\n",
      " [-6148.00369839]]\n",
      "[[0.]\n",
      " [0.]\n",
      " [0.]]\n"
     ]
    }
   ],
   "source": [
    "print(gradfun(x_t))\n",
    "print(gradfun((.1,.3,.6)))"
   ]
  },
  {
   "cell_type": "markdown",
   "metadata": {},
   "source": [
    "## SLSQP"
   ]
  },
  {
   "cell_type": "code",
   "execution_count": 27,
   "metadata": {},
   "outputs": [],
   "source": [
    "cons = ({'type': 'eq', 'fun': lambda x:  x[0] + x[1] +x[2] -1},\n",
    "        {'type': 'ineq', 'fun': lambda x: x[0]},\n",
    "        {'type': 'ineq', 'fun': lambda x: x[1]},\n",
    "        {'type': 'ineq', 'fun': lambda x: x[2]})\n",
    "\n",
    "bnds = ((0, None), (0, None), (0, None))"
   ]
  },
  {
   "cell_type": "code",
   "execution_count": 28,
   "metadata": {},
   "outputs": [
    {
     "name": "stdout",
     "output_type": "stream",
     "text": [
      "     fun: 1.496343175783729e-12\n",
      "     jac: array([ 0.00023344, -0.00024889, -0.00018775])\n",
      " message: 'Optimization terminated successfully.'\n",
      "    nfev: 11\n",
      "     nit: 6\n",
      "    njev: 6\n",
      "  status: 0\n",
      " success: True\n",
      "       x: array([0.10000001, 0.3       , 0.6       ])\n",
      "Time:  1.9427780038786295\n"
     ]
    }
   ],
   "source": [
    "start = timeit.default_timer()\n",
    "\n",
    "print(scipy.optimize.minimize(function, x_t, method='SLSQP', jac=gradfun, bounds=bnds, constraints=cons))\n",
    "\n",
    "stop = timeit.default_timer()\n",
    "\n",
    "print('Time: ', stop - start)"
   ]
  },
  {
   "cell_type": "code",
   "execution_count": null,
   "metadata": {},
   "outputs": [],
   "source": []
  }
 ],
 "metadata": {
  "kernelspec": {
   "display_name": "Python 3",
   "language": "python",
   "name": "python3"
  },
  "language_info": {
   "codemirror_mode": {
    "name": "ipython",
    "version": 3
   },
   "file_extension": ".py",
   "mimetype": "text/x-python",
   "name": "python",
   "nbconvert_exporter": "python",
   "pygments_lexer": "ipython3",
   "version": "3.6.5"
  }
 },
 "nbformat": 4,
 "nbformat_minor": 2
}
