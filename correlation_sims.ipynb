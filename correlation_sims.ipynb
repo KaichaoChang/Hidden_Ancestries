{
 "cells": [
  {
   "cell_type": "markdown",
   "metadata": {},
   "source": [
    "# Hendricks Group\n",
    "\n",
    "# Hidden Ancestry Correlated Data Simulations"
   ]
  },
  {
   "cell_type": "markdown",
   "metadata": {},
   "source": [
    "_In the following notebook, we investigate the effect of correlated observations on the numerical solution to the Hidden Ancestries problem.\n",
    "In particular, we consider a series of solutions to problems in which we have repeated observations in our data set.\n",
    "Repeated observations are simply equal data, which are perfectly correlated.\n",
    "We use simulated SNPs with minor allele frequencies for only 2 ancestries -- European ancestries and African ancestries.\n",
    "We try to solve for both ancestry's proportions in the total (simulated) population. \n",
    "In detail, we choose known ancestry proportions (we choose our own answer!) and ensure that our Python script correctly uses the data to solve for the ancestry proportions. Here, we have the case in which the European ancestries comprise $0.1$ of the total population and African ancestries comprise $0.9$ of the total population.\n",
    "Although this data contain $>77,000$ SNPs, we will only be using about 10 of these for now..._"
   ]
  },
  {
   "cell_type": "code",
   "execution_count": 1,
   "metadata": {},
   "outputs": [],
   "source": [
    "# This calls the generalized HA script -- be sure to have it saved in you working directory!\n",
    "# This cell is not going to work once you change your working directory in the next cell to read in data!!!!!\n",
    "# Changing your working directory is totally unneccessary if you are working in the \"nfs\" based directory already\n",
    "\n",
    "%run HA_script.py"
   ]
  },
  {
   "cell_type": "code",
   "execution_count": 10,
   "metadata": {},
   "outputs": [
    {
     "data": {
      "text/html": [
       "<div>\n",
       "<style scoped>\n",
       "    .dataframe tbody tr th:only-of-type {\n",
       "        vertical-align: middle;\n",
       "    }\n",
       "\n",
       "    .dataframe tbody tr th {\n",
       "        vertical-align: top;\n",
       "    }\n",
       "\n",
       "    .dataframe thead th {\n",
       "        text-align: right;\n",
       "    }\n",
       "</style>\n",
       "<table border=\"1\" class=\"dataframe\">\n",
       "  <thead>\n",
       "    <tr style=\"text-align: right;\">\n",
       "      <th></th>\n",
       "      <th>CHR</th>\n",
       "      <th>SNP</th>\n",
       "      <th>CEU_MAF</th>\n",
       "      <th>afr_MAF</th>\n",
       "      <th>sample_af</th>\n",
       "    </tr>\n",
       "  </thead>\n",
       "  <tbody>\n",
       "    <tr>\n",
       "      <th>0</th>\n",
       "      <td>1</td>\n",
       "      <td>rs10047256</td>\n",
       "      <td>0.03535</td>\n",
       "      <td>0.162716</td>\n",
       "      <td>0.14640</td>\n",
       "    </tr>\n",
       "    <tr>\n",
       "      <th>1</th>\n",
       "      <td>1</td>\n",
       "      <td>rs1005979</td>\n",
       "      <td>0.39900</td>\n",
       "      <td>0.351198</td>\n",
       "      <td>0.35375</td>\n",
       "    </tr>\n",
       "    <tr>\n",
       "      <th>2</th>\n",
       "      <td>1</td>\n",
       "      <td>rs1006236</td>\n",
       "      <td>0.06566</td>\n",
       "      <td>0.256969</td>\n",
       "      <td>0.23795</td>\n",
       "    </tr>\n",
       "    <tr>\n",
       "      <th>3</th>\n",
       "      <td>1</td>\n",
       "      <td>rs1007249</td>\n",
       "      <td>0.00000</td>\n",
       "      <td>0.026783</td>\n",
       "      <td>0.02385</td>\n",
       "    </tr>\n",
       "    <tr>\n",
       "      <th>4</th>\n",
       "      <td>1</td>\n",
       "      <td>rs1007282</td>\n",
       "      <td>0.01515</td>\n",
       "      <td>0.114079</td>\n",
       "      <td>0.10000</td>\n",
       "    </tr>\n",
       "    <tr>\n",
       "      <th>5</th>\n",
       "      <td>1</td>\n",
       "      <td>rs10082085</td>\n",
       "      <td>0.00000</td>\n",
       "      <td>0.185510</td>\n",
       "      <td>0.16505</td>\n",
       "    </tr>\n",
       "    <tr>\n",
       "      <th>6</th>\n",
       "      <td>1</td>\n",
       "      <td>rs10157158</td>\n",
       "      <td>0.30810</td>\n",
       "      <td>0.353187</td>\n",
       "      <td>0.35005</td>\n",
       "    </tr>\n",
       "    <tr>\n",
       "      <th>7</th>\n",
       "      <td>1</td>\n",
       "      <td>rs10157174</td>\n",
       "      <td>0.00000</td>\n",
       "      <td>0.079365</td>\n",
       "      <td>0.07035</td>\n",
       "    </tr>\n",
       "    <tr>\n",
       "      <th>8</th>\n",
       "      <td>1</td>\n",
       "      <td>rs10157521</td>\n",
       "      <td>0.00000</td>\n",
       "      <td>0.155752</td>\n",
       "      <td>0.13700</td>\n",
       "    </tr>\n",
       "    <tr>\n",
       "      <th>9</th>\n",
       "      <td>1</td>\n",
       "      <td>rs10157912</td>\n",
       "      <td>0.01010</td>\n",
       "      <td>0.158734</td>\n",
       "      <td>0.14465</td>\n",
       "    </tr>\n",
       "  </tbody>\n",
       "</table>\n",
       "</div>"
      ],
      "text/plain": [
       "   CHR         SNP  CEU_MAF   afr_MAF  sample_af\n",
       "0    1  rs10047256  0.03535  0.162716    0.14640\n",
       "1    1   rs1005979  0.39900  0.351198    0.35375\n",
       "2    1   rs1006236  0.06566  0.256969    0.23795\n",
       "3    1   rs1007249  0.00000  0.026783    0.02385\n",
       "4    1   rs1007282  0.01515  0.114079    0.10000\n",
       "5    1  rs10082085  0.00000  0.185510    0.16505\n",
       "6    1  rs10157158  0.30810  0.353187    0.35005\n",
       "7    1  rs10157174  0.00000  0.079365    0.07035\n",
       "8    1  rs10157521  0.00000  0.155752    0.13700\n",
       "9    1  rs10157912  0.01010  0.158734    0.14465"
      ]
     },
     "execution_count": 10,
     "metadata": {},
     "output_type": "execute_result"
    }
   ],
   "source": [
    "import os\n",
    "import pandas as pd\n",
    "\n",
    "# Change the current working directory to read in data\n",
    "# Note that eventually we will need to upload this data along with our package...\n",
    "os.chdir('/nfs/storage/math/gross-s2/projects/mixtures/example_sims/')\n",
    "\n",
    "# Read in the data\n",
    "ev = pd.read_csv(\"Afr_CEU_10000tot_9000Afr_sims_and_reference.txt\", sep='\\t')\n",
    "\n",
    "ev.head(10) ### Look at the first 5 rows"
   ]
  },
  {
   "cell_type": "code",
   "execution_count": 3,
   "metadata": {},
   "outputs": [
    {
     "name": "stdout",
     "output_type": "stream",
     "text": [
      "number of SNPs is 77095\n",
      "\n",
      "our MAF & TAF column vectors have size (77095, 1) (77095, 1) (77095, 1)\n",
      "\n",
      "and our input matrix is size (77095, 2)\n"
     ]
    }
   ],
   "source": [
    "# Collect and name the SNPS\n",
    "# These are each of the columns above\n",
    "\n",
    "# Transposes are appearing only to turn row vectors (which I introduced by using brackets)\n",
    "# back into column vectors. This is a little sloppy, but guarantees correct size. See below.\n",
    "a_1 = np.transpose([ev['CEU_MAF']])\n",
    "a_2 = np.transpose([ev['afr_MAF']])\n",
    "a_t = np.transpose([ev['sample_af']])\n",
    "\n",
    "\n",
    "# Now stack the columns into an input matrix that HA function will accept. Should be size Nxk.\n",
    "A = np.hstack((a_1,a_2))\n",
    "\n",
    "# Perform checks and print results\n",
    "print('number of SNPs is', np.shape(a_t)[0])\n",
    "\n",
    "print()\n",
    "\n",
    "print('our MAF & TAF column vectors have size', np.shape(a_1),np.shape(a_2),np.shape(a_t))\n",
    "\n",
    "print()\n",
    "\n",
    "print('and our input matrix is size', np.shape(A))"
   ]
  },
  {
   "cell_type": "markdown",
   "metadata": {},
   "source": [
    "## Before we do simulations we (1) choose an initial starting guess to seed all of our runs with (2) we solve the problem with all $77,095$ SNPs just as a baseline"
   ]
  },
  {
   "cell_type": "code",
   "execution_count": 45,
   "metadata": {},
   "outputs": [],
   "source": [
    "# The real answer is (.1,.9) for the data set we just read in.\n",
    "# Therefore, we choose a starting guess sufficiently far away\n",
    "\n",
    "x_t=np.transpose([[0.5,0.5]])"
   ]
  },
  {
   "cell_type": "code",
   "execution_count": 46,
   "metadata": {},
   "outputs": [
    {
     "data": {
      "text/plain": [
       "(2, 1)"
      ]
     },
     "execution_count": 46,
     "metadata": {},
     "output_type": "execute_result"
    }
   ],
   "source": [
    "# Ensure that the starting guess is proper size\n",
    "# SHould be kx1\n",
    "\n",
    "x_t.shape"
   ]
  },
  {
   "cell_type": "code",
   "execution_count": 50,
   "metadata": {},
   "outputs": [
    {
     "name": "stdout",
     "output_type": "stream",
     "text": [
      "solution using every SNP: [0.09997312 0.90002688]\n",
      "\n",
      "exact solution should be: [0.1, 0.9]\n"
     ]
    }
   ],
   "source": [
    "what_we_want = HA(A, a_t, x_t)\n",
    "\n",
    "print('solution using every SNP:', what_we_want[0])\n",
    "\n",
    "print()\n",
    "\n",
    "print('exact solution should be:', [0.1,0.9])"
   ]
  },
  {
   "cell_type": "markdown",
   "metadata": {},
   "source": [
    "## First: solve ten 1 SNP problems using first ten observations in data frame"
   ]
  },
  {
   "cell_type": "code",
   "execution_count": 51,
   "metadata": {},
   "outputs": [],
   "source": [
    "sol_array = np.zeros((10,2))\n",
    "\n",
    "for i in range(0,10):\n",
    "    a_1_single_SNP = a_1[i:i+1]\n",
    "    a_2_single_SNP = a_2[i:i+1]\n",
    "    a_t_single_SNP = a_t[i:i+1]\n",
    "\n",
    "\n",
    "    # Now stack the columns into an input matrix that HA function will accept. Should be size Nxk.\n",
    "    A_single_SNP = np.hstack((a_1_single_SNP,a_2_single_SNP))\n",
    "\n",
    "    what_we_want_single_SNP = HA(A_single_SNP, a_t_single_SNP, x_t)[0]\n",
    "    \n",
    "    sol_array[i,:] = what_we_want_single_SNP"
   ]
  },
  {
   "cell_type": "code",
   "execution_count": 54,
   "metadata": {},
   "outputs": [
    {
     "name": "stdout",
     "output_type": "stream",
     "text": [
      "[[0.12810647 0.87189353]\n",
      " [0.5        0.5       ]\n",
      " [0.09941437 0.90058563]\n",
      " [0.5        0.5       ]\n",
      " [0.14231425 0.85768575]\n",
      " [0.11028922 0.88971078]\n",
      " [0.5        0.5       ]\n",
      " [0.11359199 0.88640801]\n",
      " [0.12039644 0.87960356]\n",
      " [0.09475581 0.90524419]]\n",
      "(1, 2)\n"
     ]
    }
   ],
   "source": [
    "\n",
    "print(sol_array)\n",
    "print(np.shape([[1,2]]))"
   ]
  },
  {
   "cell_type": "markdown",
   "metadata": {},
   "source": [
    "#### Above we have printed out the 10 solutions we found. Some are good, some are almost perfect (!!!), and some are very bad...\n",
    "\n",
    "#### In fact, we see that 3 of the SNPs must be relatively un-informative since three of the printed solutions are just the initial starting guess of $x_t=(0.5,0.5)$. In other words, the initial solution was a better solution to these problems than whatever the 1-step of SQP landed on...\n",
    "\n",
    "\n",
    "#### Need to plot these 10 sols."
   ]
  },
  {
   "cell_type": "markdown",
   "metadata": {},
   "source": [
    "## Next: Create a data frame with 1 copy of each of the 10 initial SNPs above.\n",
    "\n",
    "### We will have 10 total SNPs and solve the problem with all 10 included now. (Just another baseline.)"
   ]
  },
  {
   "cell_type": "code",
   "execution_count": 58,
   "metadata": {},
   "outputs": [],
   "source": [
    "A_ten_SNP = np.zeros((10,2))\n",
    "\n",
    "for i in range(0,10):\n",
    "    a_1_single_SNP = a_1[i:i+1]\n",
    "    a_2_single_SNP = a_2[i:i+1]\n",
    "    a_t_single_SNP = a_t[i:i+1]\n",
    "\n",
    "\n",
    "    # Now stack the columns into an input matrix that HA function will accept. Should be size Nxk.\n",
    "    A_ten_SNP[i,:] = np.hstack((a_1_single_SNP,a_2_single_SNP))\n",
    "\n",
    "    what_we_want_ten_SNP = HA(A_ten_SNP, a_t_single_SNP, x_t)[0]"
   ]
  },
  {
   "cell_type": "code",
   "execution_count": 60,
   "metadata": {},
   "outputs": [
    {
     "name": "stdout",
     "output_type": "stream",
     "text": [
      "[0.15097919 0.84902081]\n"
     ]
    }
   ],
   "source": [
    "print(what_we_want_ten_SNP)"
   ]
  },
  {
   "cell_type": "markdown",
   "metadata": {},
   "source": [
    "#### Here we see a solution that is close, but about $0.05$ \"off\" in each component, where we recall the truth is $(0.1,0.9).$"
   ]
  },
  {
   "cell_type": "markdown",
   "metadata": {},
   "source": [
    "## Next: Create a data frame with 10 copies of each of the 10 initial SNPs.\n",
    "\n",
    "### Now we will have 100 total SNPs and solve the problem with all 100. I am expecting the same exact solution as what we just got since the ratios of each data observation has not changed... (?)"
   ]
  },
  {
   "cell_type": "code",
   "execution_count": 63,
   "metadata": {},
   "outputs": [],
   "source": [
    "A_hund_SNP = np.zeros((100,2))\n",
    "a_t_hund_SNP = np.zeros((100,1))\n",
    "\n",
    "for i in range(0,10):\n",
    "    a_1_single_SNP = a_1[i:i+1]\n",
    "    a_2_single_SNP = a_2[i:i+1]\n",
    "    a_t_single_SNP = a_t[i:i+1]\n",
    "\n",
    "    for j in range(0,10):\n",
    "        # Now stack the columns into an input matrix that HA function will accept. Should be size Nxk.\n",
    "        A_hund_SNP[i+j,:] = np.hstack((a_1_single_SNP,a_2_single_SNP))\n",
    "        a_t_hund_SNP[i+j,:] = a_t_single_SNP\n",
    "\n",
    "    what_we_want_hund_SNP = HA(A_hund_SNP, a_t_hund_SNP, x_t)[0]\n"
   ]
  },
  {
   "cell_type": "code",
   "execution_count": 64,
   "metadata": {},
   "outputs": [
    {
     "name": "stdout",
     "output_type": "stream",
     "text": [
      "[0.10130979 0.89869021]\n"
     ]
    }
   ],
   "source": [
    "print(what_we_want_hund_SNP)"
   ]
  },
  {
   "cell_type": "markdown",
   "metadata": {},
   "source": [
    "#### Wow! Here we see a solution that is actually closer, only about $0.01$ \"off\" in each component, where we recall the truth is $(0.1,0.9).$\n",
    "\n",
    "#### Is the effect of the multiple informative SNP's is outweighing the \"bad\"/uniformative SNPs now?"
   ]
  },
  {
   "cell_type": "markdown",
   "metadata": {},
   "source": [
    "## Final test for now: Create a data frame with 80 copies of an informative SNP and 20 copies of an uninformative SNP\n",
    "\n",
    "### Now we will again have 100 total SNPs and solve the problem with all 100. I no longer know what to expect!\n",
    "\n",
    "### I will use the very first initial SNP for copying 80 times since it was informative\n",
    "\n",
    "### I will use the second initial SNP for copying 20 times since it seemed uninformative (only based on its single SNP solution...)"
   ]
  },
  {
   "cell_type": "code",
   "execution_count": 87,
   "metadata": {},
   "outputs": [],
   "source": [
    "good_n = 80\n",
    "bad_n = 20 # these two values must sum to 100!\n",
    "\n",
    "A_hund_SNP_1 = np.zeros((100,2))\n",
    "a_t_hund_SNP_1 = np.zeros((100,1))\n",
    "\n",
    "\n",
    "a_1_good_SNP = a_1[0:1]\n",
    "a_2_good_SNP = a_2[0:1]\n",
    "a_t_good_SNP = a_t[0:1]\n",
    "\n",
    "for j in range(0,good_n):\n",
    "    # Now stack the columns into an input matrix that HA function will accept. Should be size Nxk.\n",
    "    A_hund_SNP_1[i,:] = np.hstack((a_1_good_SNP,a_2_good_SNP))\n",
    "    a_t_hund_SNP_1[i,:] = a_t_single_SNP\n",
    "    \n",
    "a_1_bad_SNP = a_1[1:2]\n",
    "a_2_bad_SNP = a_2[1:2]\n",
    "a_t_bad_SNP = a_t[1:2]\n",
    "\n",
    "for j in range(0,bad_n):\n",
    "    # Now stack the columns into an input matrix that HA function will accept. Should be size Nxk.\n",
    "    A_hund_SNP_1[good_n+i,:] = np.hstack((a_1_bad_SNP,a_2_bad_SNP))\n",
    "    a_t_hund_SNP_1[good_n+i,:] = a_t_bad_SNP\n",
    "\n",
    "what_we_want_hund_SNP_1 = HA(A_hund_SNP_1, a_t_hund_SNP_1, x_t)[0]"
   ]
  },
  {
   "cell_type": "code",
   "execution_count": 88,
   "metadata": {},
   "outputs": [
    {
     "name": "stdout",
     "output_type": "stream",
     "text": [
      "[0.1309241 0.8690759]\n"
     ]
    }
   ],
   "source": [
    "print(what_we_want_hund_SNP_1)"
   ]
  },
  {
   "cell_type": "markdown",
   "metadata": {},
   "source": [
    "#### Very interesting. I am getting the solution above even when I use 99 \"bad\" SNPs and only 1 \"good\" SNP... As soon as I take away the only good SNP, we are back to the initial guess, $x_t=(0,5,0.5)$.\n",
    "\n",
    "#### Need to put in sliders for good_n and bad_n to show this?\n",
    "\n",
    "#### More investigation needed."
   ]
  }
 ],
 "metadata": {
  "kernelspec": {
   "display_name": "Python 3",
   "language": "python",
   "name": "python3"
  },
  "language_info": {
   "codemirror_mode": {
    "name": "ipython",
    "version": 3
   },
   "file_extension": ".py",
   "mimetype": "text/x-python",
   "name": "python",
   "nbconvert_exporter": "python",
   "pygments_lexer": "ipython3",
   "version": "3.6.6"
  }
 },
 "nbformat": 4,
 "nbformat_minor": 2
}
