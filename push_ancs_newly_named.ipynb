{
 "cells": [
  {
   "cell_type": "code",
   "execution_count": 1,
   "metadata": {},
   "outputs": [],
   "source": [
    "import numpy as np\n",
    "import scipy as scipy\n",
    "from scipy.optimize import minimize\n",
    "import timeit\n",
    "%run HA_script.py"
   ]
  },
  {
   "cell_type": "markdown",
   "metadata": {},
   "source": [
    "# Try Solving Many Ancestries problem, multiple SNPs\n",
    "\n",
    "In this notebook we attempt to solve the following constrained, quadratic optimization problem:\n",
    "\n",
    "$$\\min_{\\pi \\in \\mathbb{R}^k} f(\\pi)=\\sum_{i=1}^{N}\\left(\\sum_{j=1}^k a_{j,i}\\pi_j-\\tilde{a}_i\\right)^2$$\n",
    "\n",
    "$$\\text{subject to:} \\sum_{j=1}^k \\pi_k=1 \\quad \\pi_j \\geq 0, j=1,\\ldots,k,$$\n",
    "\n",
    "where $a_{j,i} \\in \\mathbb{R}$, $j=1,\\ldots, k$; $i=1,\\ldots N$ and $\\tilde{a}_i \\in \\mathbb{R}$, $i =1, \\ldots, N$ are quantities obtained from a genetics simulation. The $a_{j,i}$'s correspond to the observed allele frequency in ancestry $j$ at SNP $i$. There are $k$ ancestries and $N$ SNPs."
   ]
  },
  {
   "cell_type": "code",
   "execution_count": 2,
   "metadata": {},
   "outputs": [
    {
     "name": "stdout",
     "output_type": "stream",
     "text": [
      "15 (1000000, 1) (15, 1) (1000000, 1)\n"
     ]
    }
   ],
   "source": [
    "N=1000000 # number of SNPs\n",
    "k=15 # number of ancestries\n",
    "\n",
    "A=np.array(np.random.uniform(low=0, high=1, size=(N,1))) # initialize an array for experimental draws\n",
    "\n",
    "for i in range(1,k):\n",
    "    A=np.hstack((A,np.random.uniform(low=0, high=1, size=(N,1))))\n",
    "\n",
    "# First, we choose an answer! This vector must be Nx1\n",
    "\n",
    "ans=[[0.1], [0.1], [0.1], [0.25], [0.05], [0.1], [0.05], [0.05], [0.01], [0.01], [0.01], [0.01], [0.01], [0.05], [0.1]]\n",
    "\n",
    "taf=A@ans # Total allele frequency\n",
    "\n",
    "print(np.shape(A)[1],np.shape(taf), np.shape(ans), np.shape(taf))"
   ]
  },
  {
   "cell_type": "code",
   "execution_count": 3,
   "metadata": {},
   "outputs": [
    {
     "name": "stdout",
     "output_type": "stream",
     "text": [
      "check shape of x_t: (15, 1) [1.]\n"
     ]
    }
   ],
   "source": [
    "# This is a feasible initial point since its components add to 1 and are positive.\n",
    "\n",
    "x_t=(1/k)*np.ones((k,1))\n",
    "print('check shape of x_t:', np.shape(x_t), np.sum(x_t,axis=0))\n"
   ]
  },
  {
   "cell_type": "code",
   "execution_count": 4,
   "metadata": {},
   "outputs": [],
   "source": [
    "what_we_want = HA(A,taf,x_t)"
   ]
  },
  {
   "cell_type": "code",
   "execution_count": 5,
   "metadata": {},
   "outputs": [
    {
     "name": "stdout",
     "output_type": "stream",
     "text": [
      "(array([0.09999991, 0.0999998 , 0.09999979, 0.25000007, 0.05      ,\n",
      "       0.10000017, 0.04999963, 0.05000021, 0.00999959, 0.01000016,\n",
      "       0.00999988, 0.0100004 , 0.01000009, 0.05000014, 0.10000018]), 35, 19.10940058482811)\n"
     ]
    }
   ],
   "source": [
    "print(what_we_want)"
   ]
  }
 ],
 "metadata": {
  "kernelspec": {
   "display_name": "Python 3",
   "language": "python",
   "name": "python3"
  },
  "language_info": {
   "codemirror_mode": {
    "name": "ipython",
    "version": 3
   },
   "file_extension": ".py",
   "mimetype": "text/x-python",
   "name": "python",
   "nbconvert_exporter": "python",
   "pygments_lexer": "ipython3",
   "version": "3.6.6"
  }
 },
 "nbformat": 4,
 "nbformat_minor": 2
}
