{
 "cells": [
  {
   "cell_type": "code",
   "execution_count": 1,
   "metadata": {},
   "outputs": [],
   "source": [
    "import numpy as np\n",
    "import scipy as scipy\n",
    "import matplotlib.pyplot as plt\n",
    "from scipy.optimize import minimize"
   ]
  },
  {
   "cell_type": "markdown",
   "metadata": {},
   "source": [
    "# Gain Intuitions by Solving 2 Ancestry problem\n",
    "\n",
    "To begin to understand exact and numerical approaches to the optimization problem of interest to the Hendricks group for the Hidden Ancestries project, in this notebook we attempt to solve the following constrained, quadratic optimization problem:\n",
    "\n",
    "$$\\min_{\\pi \\in \\mathbb{R}^2} f(x,y)=\\sum_{i=1}^{N}(a_i\\pi_1+b_i\\pi_2-c_i)^2$$\n",
    "\n",
    "$$\\text{subject to:} \\quad \\pi_1+\\pi_2=1 \\quad \\pi_1\\geq 0 \\quad \\pi_2 \\geq 0,$$\n",
    "\n",
    "where $a_i,b_i,c_i \\in \\mathbb{R}, i=1,\\ldots N$ are quantities obtained from a genetics simulation. The $a_i$'s correspond to the observed allele frequency in ancestry 1; the $b_i$'s correspond to the observed allele frequency in ancestry 2; the $c_i$'s corespond to the observed  total allele frequency in the population. Here, $N$ is the number of SNPs."
   ]
  },
  {
   "cell_type": "code",
   "execution_count": 7,
   "metadata": {},
   "outputs": [],
   "source": [
    "# Simulate 10^6 SNPS\n",
    "\n",
    "# Megan : this is where you will replace the a, b, and c vectors I form with random draws\n",
    "#         with the data from the SNPS. They should be column vectors!\n",
    "\n",
    "M=1000000\n",
    "\n",
    "a = np.random.uniform(low=0, high=0.6, size=(M,1))\n",
    "b = np.random.uniform(low=0.2, high=0.5, size=(M,1))\n",
    "c = 0.4*a + 0.6*b"
   ]
  },
  {
   "cell_type": "code",
   "execution_count": 8,
   "metadata": {},
   "outputs": [],
   "source": [
    "# This is the objective function!\n",
    "\n",
    "def function(x):\n",
    "    return np.sum((a*x[0]+b*x[1]-c)**2,axis=0)"
   ]
  },
  {
   "cell_type": "code",
   "execution_count": 9,
   "metadata": {},
   "outputs": [
    {
     "name": "stdout",
     "output_type": "stream",
     "text": [
      "[400.18515994]\n"
     ]
    }
   ],
   "source": [
    "# This is a feasible initial point since its components add to 1 and are positive.\n",
    "\n",
    "x_t=np.array((0.3,0.7))\n",
    "\n",
    "# Make sure function works by computing f(x_t)\n",
    "\n",
    "print(function(x_t))"
   ]
  },
  {
   "cell_type": "code",
   "execution_count": 10,
   "metadata": {},
   "outputs": [],
   "source": [
    "# Here is the gradient of the objective function\n",
    "\n",
    "\n",
    "\n",
    "def gradfun(x):\n",
    "    return np.array((np.sum(2*a*(a*x[0]+b*x[1]-c),axis=0),np.sum(2*b*(a*x[0]+b*x[1]-c),axis=0)))"
   ]
  },
  {
   "cell_type": "code",
   "execution_count": 11,
   "metadata": {},
   "outputs": [
    {
     "name": "stdout",
     "output_type": "stream",
     "text": [
      "[[-3011.86916023]\n",
      " [ 4991.83403854]]\n"
     ]
    }
   ],
   "source": [
    "print(gradfun(x_t))"
   ]
  },
  {
   "cell_type": "markdown",
   "metadata": {},
   "source": [
    "## Analytic Solution (2 Ancestries, 1 SNP)\n",
    "\n",
    "For two ancestries, one SNP, we have an analytic solution given by\n",
    "\n",
    "$$x^*=\\left(\\frac{c-b}{a-b},\\frac{a-c}{a-b}\\right).$$\n",
    "\n",
    "For $N>1$, this is inapplicable!!!"
   ]
  },
  {
   "cell_type": "code",
   "execution_count": 12,
   "metadata": {},
   "outputs": [],
   "source": [
    "# Don't print this if N>1\n",
    "\n",
    "# print((c-b)/(a-b),(a-c)/(a-b))\n",
    "# function(((c-b)/(a-b),(a-c)/(a-b)))"
   ]
  },
  {
   "cell_type": "code",
   "execution_count": 13,
   "metadata": {},
   "outputs": [],
   "source": [
    "# Don't print this if N>1\n",
    "\n",
    "# print(gradfun(((c-b)/(a-b),(a-c)/(a-b))))"
   ]
  },
  {
   "cell_type": "markdown",
   "metadata": {},
   "source": [
    "## Grid Searching"
   ]
  },
  {
   "cell_type": "code",
   "execution_count": 14,
   "metadata": {},
   "outputs": [],
   "source": [
    "x=np.arange(0,1,0.01)\n",
    "y=1-x"
   ]
  },
  {
   "cell_type": "code",
   "execution_count": 15,
   "metadata": {},
   "outputs": [
    {
     "name": "stdout",
     "output_type": "stream",
     "text": [
      "0.39 0.61\n",
      "Time:  3.9338950996649573\n"
     ]
    }
   ],
   "source": [
    "import timeit\n",
    "\n",
    "start = timeit.default_timer()\n",
    "\n",
    "f=0\n",
    "f_hist=np.array(f)\n",
    "\n",
    "for i in range(1,100):\n",
    "    f= function((x[i],y[i]))\n",
    "    f_hist=np.vstack((f_hist,f))\n",
    "\n",
    "f_hist=f_hist[1:]\n",
    "#print(f_hist)\n",
    "ind=np.argmin(f_hist)\n",
    "print(x[ind],y[ind])\n",
    "\n",
    "\n",
    "stop = timeit.default_timer()\n",
    "\n",
    "print('Time: ', stop - start)"
   ]
  },
  {
   "cell_type": "markdown",
   "metadata": {},
   "source": [
    "## SLSQP"
   ]
  },
  {
   "cell_type": "code",
   "execution_count": 16,
   "metadata": {},
   "outputs": [],
   "source": [
    "cons = ({'type': 'eq', 'fun': lambda x:  x[0] + x[1] -1},\n",
    "        {'type': 'ineq', 'fun': lambda x: x[0]},\n",
    "        {'type': 'ineq', 'fun': lambda x: x[1]})\n",
    "\n",
    "bnds = ((0, None), (0, None))"
   ]
  },
  {
   "cell_type": "code",
   "execution_count": 17,
   "metadata": {},
   "outputs": [
    {
     "name": "stdout",
     "output_type": "stream",
     "text": [
      "     fun: 8.841245102174121e-14\n",
      "     jac: array([0.00183503, 0.00186359])\n",
      " message: 'Optimization terminated successfully.'\n",
      "    nfev: 9\n",
      "     nit: 2\n",
      "    njev: 2\n",
      "  status: 0\n",
      " success: True\n",
      "       x: array([0.4, 0.6])\n",
      "Time:  0.40615188129097746\n"
     ]
    }
   ],
   "source": [
    "start = timeit.default_timer()\n",
    "\n",
    "print(scipy.optimize.minimize(function, x_t, method='SLSQP', bounds=bnds, constraints=cons))\n",
    "\n",
    "stop = timeit.default_timer()\n",
    "\n",
    "print('Time: ', stop - start)"
   ]
  },
  {
   "cell_type": "markdown",
   "metadata": {},
   "source": [
    "## Visualizations"
   ]
  },
  {
   "cell_type": "code",
   "execution_count": 18,
   "metadata": {},
   "outputs": [
    {
     "data": {
      "text/plain": [
       "[<matplotlib.lines.Line2D at 0x277a162ccf8>]"
      ]
     },
     "execution_count": 18,
     "metadata": {},
     "output_type": "execute_result"
    },
    {
     "data": {
      "image/png": "[encoded data removed]",
      "text/plain": [
       "<Figure size 432x288 with 1 Axes>"
      ]
     },
     "metadata": {},
     "output_type": "display_data"
    }
   ],
   "source": [
    "plt.plot(x[1:],f_hist)\n",
    "plt.plot(y[1:],f_hist)"
   ]
  },
  {
   "cell_type": "code",
   "execution_count": null,
   "metadata": {},
   "outputs": [],
   "source": []
  }
 ],
 "metadata": {
  "kernelspec": {
   "display_name": "Python 3",
   "language": "python",
   "name": "python3"
  },
  "language_info": {
   "codemirror_mode": {
    "name": "ipython",
    "version": 3
   },
   "file_extension": ".py",
   "mimetype": "text/x-python",
   "name": "python",
   "nbconvert_exporter": "python",
   "pygments_lexer": "ipython3",
   "version": "3.6.5"
  }
 },
 "nbformat": 4,
 "nbformat_minor": 2
}
