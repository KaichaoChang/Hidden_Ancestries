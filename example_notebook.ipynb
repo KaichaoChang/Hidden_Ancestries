{
 "cells": [
  {
   "cell_type": "markdown",
   "metadata": {},
   "source": [
    "# Hendricks Group\n",
    "\n",
    "# Hidden Ancestry Example Notebook"
   ]
  },
  {
   "cell_type": "markdown",
   "metadata": {},
   "source": [
    "_In the following notebook, we solve an example problem. We use simulated SNPs with minor allele frequencies for 4 ancestries -- European ancestries, African ancestries, South Asian ancestries, and East Asian ancestries. We try to solve for the 4 ancestry's proportions in the total (simulated) population. In detail, we choose known ancestry proportions (we choose our own answer!) and ensure that our Python script correctly uses the data to solve for the ancestry proportions. Here, we have the simple case in which all 4 ancestries have equal proportions of $0.25$ of the total population._"
   ]
  },
  {
   "cell_type": "code",
   "execution_count": 1,
   "metadata": {},
   "outputs": [],
   "source": [
    "# This calls the generalized HA script -- be sure to have it saved in you working directory!\n",
    "# This cell is not going to work once you change your working directory in the next cell to read in data!!!!!\n",
    "# Changing your working directory is totally unneccessary if you are working in the \"nfs\" based directory already\n",
    "\n",
    "%run HA_script.py"
   ]
  },
  {
   "cell_type": "code",
   "execution_count": 2,
   "metadata": {},
   "outputs": [
    {
     "data": {
      "text/html": [
       "<div>\n",
       "<style scoped>\n",
       "    .dataframe tbody tr th:only-of-type {\n",
       "        vertical-align: middle;\n",
       "    }\n",
       "\n",
       "    .dataframe tbody tr th {\n",
       "        vertical-align: top;\n",
       "    }\n",
       "\n",
       "    .dataframe thead th {\n",
       "        text-align: right;\n",
       "    }\n",
       "</style>\n",
       "<table border=\"1\" class=\"dataframe\">\n",
       "  <thead>\n",
       "    <tr style=\"text-align: right;\">\n",
       "      <th></th>\n",
       "      <th>CHR</th>\n",
       "      <th>SNP</th>\n",
       "      <th>CEU_MAF</th>\n",
       "      <th>afr_MAF</th>\n",
       "      <th>sas_MAF</th>\n",
       "      <th>eas_MAF</th>\n",
       "      <th>af</th>\n",
       "    </tr>\n",
       "  </thead>\n",
       "  <tbody>\n",
       "    <tr>\n",
       "      <th>0</th>\n",
       "      <td>1</td>\n",
       "      <td>rs1000364</td>\n",
       "      <td>0.3939</td>\n",
       "      <td>0.070438</td>\n",
       "      <td>0.423307</td>\n",
       "      <td>0.384912</td>\n",
       "      <td>0.32305</td>\n",
       "    </tr>\n",
       "    <tr>\n",
       "      <th>1</th>\n",
       "      <td>1</td>\n",
       "      <td>rs1002655</td>\n",
       "      <td>0.3434</td>\n",
       "      <td>0.230153</td>\n",
       "      <td>0.468285</td>\n",
       "      <td>0.350196</td>\n",
       "      <td>0.34735</td>\n",
       "    </tr>\n",
       "    <tr>\n",
       "      <th>2</th>\n",
       "      <td>1</td>\n",
       "      <td>rs1008082</td>\n",
       "      <td>0.2828</td>\n",
       "      <td>0.082341</td>\n",
       "      <td>0.236197</td>\n",
       "      <td>0.112097</td>\n",
       "      <td>0.18235</td>\n",
       "    </tr>\n",
       "    <tr>\n",
       "      <th>3</th>\n",
       "      <td>1</td>\n",
       "      <td>rs10082057</td>\n",
       "      <td>0.0000</td>\n",
       "      <td>0.181558</td>\n",
       "      <td>0.000000</td>\n",
       "      <td>0.000000</td>\n",
       "      <td>0.04630</td>\n",
       "    </tr>\n",
       "    <tr>\n",
       "      <th>4</th>\n",
       "      <td>1</td>\n",
       "      <td>rs10082123</td>\n",
       "      <td>0.1515</td>\n",
       "      <td>0.230183</td>\n",
       "      <td>0.220848</td>\n",
       "      <td>0.227184</td>\n",
       "      <td>0.21080</td>\n",
       "    </tr>\n",
       "  </tbody>\n",
       "</table>\n",
       "</div>"
      ],
      "text/plain": [
       "   CHR         SNP  CEU_MAF   afr_MAF   sas_MAF   eas_MAF       af\n",
       "0    1   rs1000364   0.3939  0.070438  0.423307  0.384912  0.32305\n",
       "1    1   rs1002655   0.3434  0.230153  0.468285  0.350196  0.34735\n",
       "2    1   rs1008082   0.2828  0.082341  0.236197  0.112097  0.18235\n",
       "3    1  rs10082057   0.0000  0.181558  0.000000  0.000000  0.04630\n",
       "4    1  rs10082123   0.1515  0.230183  0.220848  0.227184  0.21080"
      ]
     },
     "execution_count": 2,
     "metadata": {},
     "output_type": "execute_result"
    }
   ],
   "source": [
    "import os\n",
    "import pandas as pd\n",
    "\n",
    "# Change the current working directory to read in data\n",
    "# Note that eventually we will need to upload this data along with our package...\n",
    "os.chdir('/nfs/storage/math/gross-s2/projects/mixtures/example_sims/')\n",
    "\n",
    "# Read in the data\n",
    "ev = pd.read_csv(\"Afr_CEU_sas_eas_10000tot_2500Afr_2500sas_2500eas_sims_and_reference.txt\", sep='\\t')\n",
    "\n",
    "ev.head(5) ### Look at the first 5 rows"
   ]
  },
  {
   "cell_type": "code",
   "execution_count": 3,
   "metadata": {},
   "outputs": [
    {
     "name": "stdout",
     "output_type": "stream",
     "text": [
      "number of SNPs is 61857\n",
      "\n",
      "our MAF & TAF column vectors have size (61857, 1) (61857, 1) (61857, 1) (61857, 1) (61857, 1)\n",
      "\n",
      "and our input matrix is size (61857, 4)\n"
     ]
    }
   ],
   "source": [
    "# Collect and name the SNPS\n",
    "# These are each of the columns above\n",
    "\n",
    "# Transposes are appearing only to turn row vectors (which I introduced by using brackets)\n",
    "# back into column vectors. This is a little sloppy, but guarantees correct size. See below.\n",
    "a_1 = np.transpose([ev['CEU_MAF']])\n",
    "a_2 = np.transpose([ev['afr_MAF']])\n",
    "a_3 = np.transpose([ev['sas_MAF']])\n",
    "a_4 = np.transpose([ev['eas_MAF']])\n",
    "a_t = np.transpose([ev['af']])\n",
    "\n",
    "\n",
    "# Now stack the columns into an input matrix that HA function will accept. Should be size Nxk.\n",
    "A = np.hstack((a_1,a_2,a_3,a_4))\n",
    "\n",
    "# Perform checks and print results\n",
    "print('number of SNPs is', np.shape(a_t)[0])\n",
    "\n",
    "print()\n",
    "\n",
    "print('our MAF & TAF column vectors have size', np.shape(a_1),np.shape(a_2),np.shape(a_3),np.shape(a_4),np.shape(a_t))\n",
    "\n",
    "print()\n",
    "\n",
    "print('and our input matrix is size', np.shape(A))"
   ]
  },
  {
   "cell_type": "code",
   "execution_count": 4,
   "metadata": {},
   "outputs": [],
   "source": [
    "# The real answer is (.25,.25,.25,.25) for the data set we just read in.\n",
    "# Therefore, we choose a starting guess sufficiently far away\n",
    "\n",
    "x_t=np.transpose([[0.8,0.1,0.05,0.05]])"
   ]
  },
  {
   "cell_type": "code",
   "execution_count": 5,
   "metadata": {},
   "outputs": [
    {
     "data": {
      "text/plain": [
       "(4, 1)"
      ]
     },
     "execution_count": 5,
     "metadata": {},
     "output_type": "execute_result"
    }
   ],
   "source": [
    "# Ensure that the starting guess is proper size\n",
    "# SHould be kx1\n",
    "\n",
    "x_t.shape"
   ]
  },
  {
   "cell_type": "code",
   "execution_count": 6,
   "metadata": {},
   "outputs": [
    {
     "name": "stdout",
     "output_type": "stream",
     "text": [
      "(array([0.25022569, 0.24995832, 0.24972281, 0.25009319]), 7, 0.03330934402765706)\n"
     ]
    }
   ],
   "source": [
    "what_we_want = HA(A, a_t, x_t)\n",
    "\n",
    "print(what_we_want)"
   ]
  },
  {
   "cell_type": "markdown",
   "metadata": {},
   "source": [
    "_Above we see a printout of the answer, the number of SLSQP iterations, and the time in seconds of the run. Observe how close the components of the answer are to 0.25._"
   ]
  }
 ],
 "metadata": {
  "kernelspec": {
   "display_name": "Python 3",
   "language": "python",
   "name": "python3"
  },
  "language_info": {
   "codemirror_mode": {
    "name": "ipython",
    "version": 3
   },
   "file_extension": ".py",
   "mimetype": "text/x-python",
   "name": "python",
   "nbconvert_exporter": "python",
   "pygments_lexer": "ipython3",
   "version": "3.6.6"
  }
 },
 "nbformat": 4,
 "nbformat_minor": 2
}
