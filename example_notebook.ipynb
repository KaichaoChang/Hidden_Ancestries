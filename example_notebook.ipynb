{
 "cells": [
  {
   "cell_type": "markdown",
   "metadata": {},
   "source": [
    "# Hendricks Group\n",
    "\n",
    "# Hidden Ancestry Example Notebook"
   ]
  },
  {
   "cell_type": "markdown",
   "metadata": {},
   "source": [
    "_In the following notebook, we solve an example Hidden Ancestries problem._ \n",
    "\n",
    "* We use simulated SNPs with minor allele frequencies for $K=4$ ancestries -- European ancestries, African ancestries, South Asian ancestries, and East Asian ancestries. \n",
    "\n",
    "* We numerically solve for the 4 ancestry's true proportions in the total (simulated) population, which is the vector $\\pi^*:=(\\pi_1,\\pi_2,\\pi_3,\\pi_4)$.\n",
    "    * $\\pi_1$ denotes the proportion of European ancestries in the population\n",
    "    * $\\pi_2$ denotes the proportion of African ancestries in the population\n",
    "    * $\\pi_3$ denotes the proportion of South Asian ancestries in the population\n",
    "    * $\\pi_4$ denotes the proportion of East Asian ancestries in the population\n",
    "\n",
    "* In this notebook, we work with an example data set $D$ with known (i.e., manufactured) ancestry proportions $\\pi_k=0.25$, $k=1,2,3,4,$ and ensure that our Python script correctly uses the data to solve for these ancestry proportions using Sequential Least Squares Quadratic Programming, or SLSQP.\n",
    "    * Thus, we have the simple case in which all 4 ancestries have equal proportions of $25\\%$ of the total population."
   ]
  },
  {
   "cell_type": "markdown",
   "metadata": {},
   "source": [
    "* The cell below calls the generalized HA script, which is the main feature of the HA Python package. Then we can access the functions inside of the script to solve an example problem."
   ]
  },
  {
   "cell_type": "code",
   "execution_count": 1,
   "metadata": {},
   "outputs": [],
   "source": [
    "%run HA_script.py"
   ]
  },
  {
   "cell_type": "markdown",
   "metadata": {},
   "source": [
    "* For now, we change the current working directory to read in our genetic data, $D$, in the next cell\n",
    "    * This is because the data is not stored in our package yet.\n",
    "    * Note that eventually we will need to upload data along with our package once we settle on a finalized example data set.\n",
    "* We then read in the data using Pandas to convert from the CSV format to an array endowed with numerical linear algebra properties Python understands.\n",
    "* How $D$ is formatted matters a lot...\n",
    "    * $D$ contains (for now) a reference column containing the natural numbers, Chromosome number, SNP number (location on genome), the $4$ minor allele frequencies of the $K=4$ ancestires, and the total allele frequencies. We only need the last five columns of $D$ to solve our example problem.\n",
    "        * That is, we only need the minor and total allele frequences, which should be $K+1$ columns of D.\n",
    "* Finally, we print out the first 5 rows of $D$ to take a look at its structure and check for basic correctness in what we _think_ we are working with!"
   ]
  },
  {
   "cell_type": "code",
   "execution_count": 5,
   "metadata": {},
   "outputs": [
    {
     "data": {
      "text/html": [
       "<div>\n",
       "<style scoped>\n",
       "    .dataframe tbody tr th:only-of-type {\n",
       "        vertical-align: middle;\n",
       "    }\n",
       "\n",
       "    .dataframe tbody tr th {\n",
       "        vertical-align: top;\n",
       "    }\n",
       "\n",
       "    .dataframe thead th {\n",
       "        text-align: right;\n",
       "    }\n",
       "</style>\n",
       "<table border=\"1\" class=\"dataframe\">\n",
       "  <thead>\n",
       "    <tr style=\"text-align: right;\">\n",
       "      <th></th>\n",
       "      <th>CHR</th>\n",
       "      <th>SNP</th>\n",
       "      <th>CEU_MAF</th>\n",
       "      <th>afr_MAF</th>\n",
       "      <th>sas_MAF</th>\n",
       "      <th>eas_MAF</th>\n",
       "      <th>af</th>\n",
       "    </tr>\n",
       "  </thead>\n",
       "  <tbody>\n",
       "    <tr>\n",
       "      <th>0</th>\n",
       "      <td>1</td>\n",
       "      <td>rs1000364</td>\n",
       "      <td>0.3939</td>\n",
       "      <td>0.070438</td>\n",
       "      <td>0.423307</td>\n",
       "      <td>0.384912</td>\n",
       "      <td>0.32305</td>\n",
       "    </tr>\n",
       "    <tr>\n",
       "      <th>1</th>\n",
       "      <td>1</td>\n",
       "      <td>rs1002655</td>\n",
       "      <td>0.3434</td>\n",
       "      <td>0.230153</td>\n",
       "      <td>0.468285</td>\n",
       "      <td>0.350196</td>\n",
       "      <td>0.34735</td>\n",
       "    </tr>\n",
       "    <tr>\n",
       "      <th>2</th>\n",
       "      <td>1</td>\n",
       "      <td>rs1008082</td>\n",
       "      <td>0.2828</td>\n",
       "      <td>0.082341</td>\n",
       "      <td>0.236197</td>\n",
       "      <td>0.112097</td>\n",
       "      <td>0.18235</td>\n",
       "    </tr>\n",
       "    <tr>\n",
       "      <th>3</th>\n",
       "      <td>1</td>\n",
       "      <td>rs10082057</td>\n",
       "      <td>0.0000</td>\n",
       "      <td>0.181558</td>\n",
       "      <td>0.000000</td>\n",
       "      <td>0.000000</td>\n",
       "      <td>0.04630</td>\n",
       "    </tr>\n",
       "    <tr>\n",
       "      <th>4</th>\n",
       "      <td>1</td>\n",
       "      <td>rs10082123</td>\n",
       "      <td>0.1515</td>\n",
       "      <td>0.230183</td>\n",
       "      <td>0.220848</td>\n",
       "      <td>0.227184</td>\n",
       "      <td>0.21080</td>\n",
       "    </tr>\n",
       "  </tbody>\n",
       "</table>\n",
       "</div>"
      ],
      "text/plain": [
       "   CHR         SNP  CEU_MAF   afr_MAF   sas_MAF   eas_MAF       af\n",
       "0    1   rs1000364   0.3939  0.070438  0.423307  0.384912  0.32305\n",
       "1    1   rs1002655   0.3434  0.230153  0.468285  0.350196  0.34735\n",
       "2    1   rs1008082   0.2828  0.082341  0.236197  0.112097  0.18235\n",
       "3    1  rs10082057   0.0000  0.181558  0.000000  0.000000  0.04630\n",
       "4    1  rs10082123   0.1515  0.230183  0.220848  0.227184  0.21080"
      ]
     },
     "execution_count": 5,
     "metadata": {},
     "output_type": "execute_result"
    }
   ],
   "source": [
    "import os\n",
    "import pandas as pd\n",
    "\n",
    "os.chdir('/nfs/storage/math/gross-s2/projects/mixtures/example_sims/')\n",
    "\n",
    "# Read in the data\n",
    "D = pd.read_csv(\"Afr_CEU_sas_eas_10000tot_2500Afr_2500sas_2500eas_sims_and_reference.txt\", sep='\\t')\n",
    "\n",
    "D.head(5) ### Look at the first 5 rows"
   ]
  },
  {
   "cell_type": "markdown",
   "metadata": {},
   "source": [
    "* $D$ was manufactured so that the true solution is $\\pi^*=(.25,.25,.25,.25)$.\n",
    "* In the cell below, we choose an initial iterate, $\\pi^{(0)}$, sufficiently far away from the truth, $\\pi^*$."
   ]
  },
  {
   "cell_type": "code",
   "execution_count": 6,
   "metadata": {},
   "outputs": [],
   "source": [
    "pi_0 = np.transpose([[0.8,0.1,0.05,0.05]])"
   ]
  },
  {
   "cell_type": "markdown",
   "metadata": {},
   "source": [
    "* The user must specify the number of ancestries -- here, we have $4$.\n",
    "* Finally, the user may apply the HA function to the data $D$, with intial iterate $\\pi^{(0)}$, and the number of ancestries, $K=4$.\n",
    "* The HA function will output an array containing the numerical solution, $\\pi^{final}$, the number of SLSQP iterations taken to find the numerical solution, and the total runtime (in seconds) of SLSQP."
   ]
  },
  {
   "cell_type": "code",
   "execution_count": 15,
   "metadata": {},
   "outputs": [
    {
     "name": "stdout",
     "output_type": "stream",
     "text": [
      "our problem includes 61857 SNPs, and 4 ancestries\n",
      "\n",
      "numerical solution via SLSQP, pi_final =  [0.25022569 0.24995832 0.24972281 0.25009319]\n",
      "\n",
      "number of SLSQP iterations: 7\n",
      "\n",
      "runtime of SLSQP: 0.020284197060391307 seconds\n"
     ]
    }
   ],
   "source": [
    "k=4 # User must specify number of ancestries!\n",
    "output_array = HA(D, pi_0, k) # This line runs the HA function inside the HA_script\n",
    "\n",
    "print('our problem includes', np.shape(D)[0], 'SNPs, and', k, 'ancestries')\n",
    "print()\n",
    "print('numerical solution via SLSQP, pi_final = ',output_array[0])\n",
    "print()\n",
    "print('number of SLSQP iterations:',output_array[1])\n",
    "print()\n",
    "print('runtime of SLSQP:',output_array[2],'seconds')"
   ]
  },
  {
   "cell_type": "markdown",
   "metadata": {},
   "source": [
    "### _Above we see a printout of the numerical solution, $\\pi^{final}$, the number of SLSQP iterations, and the time in seconds of the run. Observe how close eachof the components of the answer are to 0.25._"
   ]
  }
 ],
 "metadata": {
  "kernelspec": {
   "display_name": "Python 3",
   "language": "python",
   "name": "python3"
  },
  "language_info": {
   "codemirror_mode": {
    "name": "ipython",
    "version": 3
   },
   "file_extension": ".py",
   "mimetype": "text/x-python",
   "name": "python",
   "nbconvert_exporter": "python",
   "pygments_lexer": "ipython3",
   "version": "3.6.6"
  }
 },
 "nbformat": 4,
 "nbformat_minor": 2
}
