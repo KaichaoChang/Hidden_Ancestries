{
 "cells": [
  {
   "cell_type": "markdown",
   "metadata": {},
   "source": [
    "# Hendricks Group\n",
    "\n",
    "# Hidden Ancestry Example Notebook"
   ]
  },
  {
   "cell_type": "markdown",
   "metadata": {},
   "source": [
    "_In the following notebook, we solve an example Hidden Ancestries problem._ \n",
    "\n",
    "* We use simulated SNPs with minor allele frequencies for $K=5$ ancestries -- European ancestries, African ancestries, South Asian ancestries, East Asian ancestries, and Native American ancestires. \n",
    "\n",
    "* We numerically solve for the 5 ancestry's true proportions in the _observed_ population, which is the vector $\\pi^*:=(\\pi_1,\\pi_2,\\pi_3,\\pi_4, \\pi_5)$.\n",
    "    * $\\pi_1$ denotes the proportion of European ancestries in the observed population\n",
    "    * $\\pi_2$ denotes the proportion of African ancestries in the observed population\n",
    "    * $\\pi_3$ denotes the proportion of South Asian ancestries in the observed population\n",
    "    * $\\pi_4$ denotes the proportion of East Asian ancestries in the observed population\n",
    "    * $\\pi_5$ denotes the proportion of Native American ancestries in the observed population\n",
    "\n",
    "* In this notebook, we work with an example data set $D$ with $10,000$ SNPs and ensure that our Python script correctly uses the data to solve for these ancestry proportions using Sequential Least Squares Quadratic Programming, or SLSQP."
   ]
  },
  {
   "cell_type": "markdown",
   "metadata": {},
   "source": [
    "* The cell below calls the generalized HA script, which is the main feature of the HA Python package. Then we can access the functions inside of the script to solve an example problem."
   ]
  },
  {
   "cell_type": "code",
   "execution_count": 1,
   "metadata": {},
   "outputs": [],
   "source": [
    "%run HA_script.py"
   ]
  },
  {
   "cell_type": "markdown",
   "metadata": {},
   "source": [
    "* For now, we change the current working directory to read in our genetic data, $D$, in the next cell\n",
    "    * This is because the data is not stored in our package yet.\n",
    "    * Note that eventually we will need to upload data along with our package once we settle on a finalized example data set.\n",
    "* We then read in the data using Pandas to convert from the CSV format to an array endowed with numerical linear algebra properties Python understands.\n",
    "* How $D$ is formatted matters a lot...\n",
    "    * $D$ contains (for now) a reference column containing the natural numbers, Chromosome number, SNP number (location on genome), the $5$ minor allele frequencies of the $K=5$ ancestires, and the gnomAD observed allele frequencies. We only need certain columns of $D$ to solve our example problem.\n",
    "        * That is, we only need the minor allele frequencies and whichever observed allele frequency we are modeling, which should be $K+1$ columns of D.\n",
    "* Finally, we print out the first 5 rows of $D$ to take a look at its structure and check for basic correctness in what we _think_ we are working with!"
   ]
  },
  {
   "cell_type": "code",
   "execution_count": 2,
   "metadata": {},
   "outputs": [
    {
     "data": {
      "text/html": [
       "<div>\n",
       "<style scoped>\n",
       "    .dataframe tbody tr th:only-of-type {\n",
       "        vertical-align: middle;\n",
       "    }\n",
       "\n",
       "    .dataframe tbody tr th {\n",
       "        vertical-align: top;\n",
       "    }\n",
       "\n",
       "    .dataframe thead th {\n",
       "        text-align: right;\n",
       "    }\n",
       "</style>\n",
       "<table border=\"1\" class=\"dataframe\">\n",
       "  <thead>\n",
       "    <tr style=\"text-align: right;\">\n",
       "      <th></th>\n",
       "      <th>SNP</th>\n",
       "      <th>CHR</th>\n",
       "      <th>ref_eur</th>\n",
       "      <th>ref_afr</th>\n",
       "      <th>ref_sas</th>\n",
       "      <th>ref_eas</th>\n",
       "      <th>ref_nam</th>\n",
       "      <th>gnomad_afr</th>\n",
       "      <th>gnomad_amr</th>\n",
       "      <th>gnomad_oth</th>\n",
       "    </tr>\n",
       "  </thead>\n",
       "  <tbody>\n",
       "    <tr>\n",
       "      <th>0</th>\n",
       "      <td>rs6695131</td>\n",
       "      <td>1</td>\n",
       "      <td>0.408394</td>\n",
       "      <td>0.596249</td>\n",
       "      <td>0.327196</td>\n",
       "      <td>0.344257</td>\n",
       "      <td>0.5116</td>\n",
       "      <td>0.585968</td>\n",
       "      <td>0.410165</td>\n",
       "      <td>0.385185</td>\n",
       "    </tr>\n",
       "    <tr>\n",
       "      <th>1</th>\n",
       "      <td>rs16823459</td>\n",
       "      <td>1</td>\n",
       "      <td>0.002475</td>\n",
       "      <td>0.053571</td>\n",
       "      <td>0.126784</td>\n",
       "      <td>0.071429</td>\n",
       "      <td>0.0000</td>\n",
       "      <td>0.051700</td>\n",
       "      <td>0.001179</td>\n",
       "      <td>0.017463</td>\n",
       "    </tr>\n",
       "    <tr>\n",
       "      <th>2</th>\n",
       "      <td>rs10909918</td>\n",
       "      <td>1</td>\n",
       "      <td>0.496266</td>\n",
       "      <td>0.135923</td>\n",
       "      <td>0.464228</td>\n",
       "      <td>0.596266</td>\n",
       "      <td>0.6977</td>\n",
       "      <td>0.209444</td>\n",
       "      <td>0.602837</td>\n",
       "      <td>0.482505</td>\n",
       "    </tr>\n",
       "    <tr>\n",
       "      <th>3</th>\n",
       "      <td>rs2483280</td>\n",
       "      <td>1</td>\n",
       "      <td>0.414622</td>\n",
       "      <td>0.083342</td>\n",
       "      <td>0.425382</td>\n",
       "      <td>0.202389</td>\n",
       "      <td>0.0000</td>\n",
       "      <td>0.118763</td>\n",
       "      <td>0.183649</td>\n",
       "      <td>0.368762</td>\n",
       "    </tr>\n",
       "    <tr>\n",
       "      <th>4</th>\n",
       "      <td>rs2487680</td>\n",
       "      <td>1</td>\n",
       "      <td>0.047030</td>\n",
       "      <td>0.000992</td>\n",
       "      <td>0.102250</td>\n",
       "      <td>0.219258</td>\n",
       "      <td>0.3837</td>\n",
       "      <td>0.014355</td>\n",
       "      <td>0.174941</td>\n",
       "      <td>0.070772</td>\n",
       "    </tr>\n",
       "  </tbody>\n",
       "</table>\n",
       "</div>"
      ],
      "text/plain": [
       "          SNP  CHR   ref_eur   ref_afr   ref_sas   ref_eas  ref_nam  \\\n",
       "0   rs6695131    1  0.408394  0.596249  0.327196  0.344257   0.5116   \n",
       "1  rs16823459    1  0.002475  0.053571  0.126784  0.071429   0.0000   \n",
       "2  rs10909918    1  0.496266  0.135923  0.464228  0.596266   0.6977   \n",
       "3   rs2483280    1  0.414622  0.083342  0.425382  0.202389   0.0000   \n",
       "4   rs2487680    1  0.047030  0.000992  0.102250  0.219258   0.3837   \n",
       "\n",
       "   gnomad_afr  gnomad_amr  gnomad_oth  \n",
       "0    0.585968    0.410165    0.385185  \n",
       "1    0.051700    0.001179    0.017463  \n",
       "2    0.209444    0.602837    0.482505  \n",
       "3    0.118763    0.183649    0.368762  \n",
       "4    0.014355    0.174941    0.070772  "
      ]
     },
     "execution_count": 2,
     "metadata": {},
     "output_type": "execute_result"
    }
   ],
   "source": [
    "import os\n",
    "import pandas as pd\n",
    "\n",
    "os.chdir('/nfs/storage/math/gross-s2/projects/mixtures/genomic_resources/packagedata')\n",
    "\n",
    "# Read in the data\n",
    "D = pd.read_csv(\"packagedata.csv\")\n",
    "\n",
    "D.head(5) ### Look at the first 5 rows"
   ]
  },
  {
   "cell_type": "markdown",
   "metadata": {},
   "source": [
    "* In the cell below, we specify the number of ancestries, $K$, and choose an initial iterate, $\\pi^{(0)}=\\frac{1}{K}(1,\\ldots,1)\\in \\mathbb{R}^{K}$."
   ]
  },
  {
   "cell_type": "code",
   "execution_count": 3,
   "metadata": {},
   "outputs": [],
   "source": [
    "K=5 # User must specify number of ancestries!\n",
    "pi_0 = np.transpose(1/K*np.ones((K,1)))"
   ]
  },
  {
   "cell_type": "markdown",
   "metadata": {},
   "source": [
    "* The user must specify the number of ancestries -- here, we have $5$.\n",
    "* Finally, the user may apply the HA function to the data $D$, with intial iterate $\\pi^{(0)}$, and the number of ancestries, $K=5$.\n",
    "* The HA function will output an array containing the numerical solution, $\\pi^{final}$, the number of SLSQP iterations taken to find the numerical solution, and the total runtime (in seconds) of SLSQP."
   ]
  },
  {
   "cell_type": "code",
   "execution_count": 5,
   "metadata": {},
   "outputs": [
    {
     "name": "stdout",
     "output_type": "stream",
     "text": [
      "our problem includes 10000 SNPs, and 5 ancestries\n",
      "\n",
      "numerical solution via SLSQP, pi_final =  [0.1583858  0.82308077 0.00714997 0.00357303 0.00781043]\n",
      "\n",
      "number of SLSQP iterations: 10\n",
      "\n",
      "runtime of SLSQP: 0.012948384508490562 seconds\n"
     ]
    }
   ],
   "source": [
    "\n",
    "output_array = HA(D, pi_0, K) # This line runs the HA function inside the HA_script\n",
    "\n",
    "print('our problem includes', np.shape(D)[0], 'SNPs, and', K, 'ancestries')\n",
    "print()\n",
    "print('numerical solution via SLSQP, pi_final = ',output_array[0])\n",
    "print()\n",
    "print('number of SLSQP iterations:',output_array[1])\n",
    "print()\n",
    "print('runtime of SLSQP:',output_array[2],'seconds')"
   ]
  },
  {
   "cell_type": "markdown",
   "metadata": {},
   "source": [
    "### _Above we see a printout of the numerical solution, $\\pi^{final}$, the number of SLSQP iterations, and the time in seconds of the run._"
   ]
  }
 ],
 "metadata": {
  "kernelspec": {
   "display_name": "Python 3",
   "language": "python",
   "name": "python3"
  },
  "language_info": {
   "codemirror_mode": {
    "name": "ipython",
    "version": 3
   },
   "file_extension": ".py",
   "mimetype": "text/x-python",
   "name": "python",
   "nbconvert_exporter": "python",
   "pygments_lexer": "ipython3",
   "version": "3.6.6"
  }
 },
 "nbformat": 4,
 "nbformat_minor": 2
}
